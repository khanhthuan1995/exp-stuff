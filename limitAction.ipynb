{
 "cells": [
  {
   "cell_type": "code",
   "execution_count": 1,
   "id": "67e07410",
   "metadata": {},
   "outputs": [],
   "source": [
    "def limitAction(condition, action):\n",
    "    if action not in condition:\n",
    "        terminated()"
   ]
  },
  {
   "cell_type": "code",
   "execution_count": 2,
   "id": "35f0b586",
   "metadata": {},
   "outputs": [],
   "source": [
    "def terminated():\n",
    "    print(\"You have been limited by the system. Please stop any action from now on.\")"
   ]
  },
  {
   "cell_type": "code",
   "execution_count": null,
   "id": "6dc8d1a6",
   "metadata": {},
   "outputs": [],
   "source": [
    "condition = [\n",
    "    \n",
    "]"
   ]
  }
 ],
 "metadata": {
  "kernelspec": {
   "display_name": "Python 3 (ipykernel)",
   "language": "python",
   "name": "python3"
  },
  "language_info": {
   "codemirror_mode": {
    "name": "ipython",
    "version": 3
   },
   "file_extension": ".py",
   "mimetype": "text/x-python",
   "name": "python",
   "nbconvert_exporter": "python",
   "pygments_lexer": "ipython3",
   "version": "3.9.13"
  }
 },
 "nbformat": 4,
 "nbformat_minor": 5
}
